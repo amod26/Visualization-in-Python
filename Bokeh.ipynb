{
 "cells": [
  {
   "cell_type": "markdown",
   "metadata": {},
   "source": [
    "# References: <br>\n",
    "https://bokeh.pydata.org/en/latest <br>\n",
    "https://www.journaldev.com/19527/bokeh-python-data-visualization"
   ]
  },
  {
   "cell_type": "code",
   "execution_count": 1,
   "metadata": {
    "collapsed": true
   },
   "outputs": [],
   "source": [
    "# installing library\n",
    "\n",
    "from bokeh.plotting import figure, output_file, show\n"
   ]
  },
  {
   "cell_type": "code",
   "execution_count": 6,
   "metadata": {
    "collapsed": true
   },
   "outputs": [],
   "source": [
    "output_file(\"Intro_bokeh.html\")\n",
    "plot = figure()\n",
    "plot.line([1, 2, 3, 4, 5], [3,6,9,3,6 ], line_width=2)\n",
    "show(plot)"
   ]
  },
  {
   "cell_type": "markdown",
   "metadata": {},
   "source": [
    "adding titles and labels"
   ]
  },
  {
   "cell_type": "code",
   "execution_count": null,
   "metadata": {
    "collapsed": true
   },
   "outputs": [],
   "source": [
    "# prepare some data\n",
    "x = [1, 2, 3, 4, 5]\n",
    "y = [6, 7, 2, 4, 5]\n",
    "\n",
    "# output to static HTML file\n",
    "output_file(\"Intro_bokeh.html\")\n",
    "\n",
    "# create a new plot with a title and axis labels\n",
    "p = figure(title=\"simple line example\", x_axis_label='x', y_axis_label='y')\n",
    "\n",
    "# add a line renderer with legend and line thickness\n",
    "p.line(x, y, legend=\"Temp.\", line_width=2)\n",
    "\n",
    "# show the results\n",
    "show(p)"
   ]
  },
  {
   "cell_type": "code",
   "execution_count": 1,
   "metadata": {},
   "outputs": [
    {
     "name": "stdout",
     "output_type": "stream",
     "text": [
      "Using data directory: /Users/senorpete/.bokeh/data\n",
      "Downloading: CGM.csv (1589982 bytes)\n",
      "   1589982 [100.00%]\n",
      "Downloading: US_Counties.zip (3182088 bytes)\n",
      "   3182088 [100.00%]\n",
      "Unpacking: US_Counties.csv\n",
      "Downloading: us_cities.json (713565 bytes)\n",
      "    713565 [100.00%]\n",
      "Downloading: unemployment09.csv (253301 bytes)\n",
      "    253301 [100.00%]\n",
      "Downloading: AAPL.csv (166698 bytes)\n",
      "    166698 [100.00%]\n",
      "Downloading: FB.csv (9706 bytes)\n",
      "      9706 [100.00%]\n",
      "Downloading: GOOG.csv (113894 bytes)\n",
      "    113894 [100.00%]\n",
      "Downloading: IBM.csv (165625 bytes)\n",
      "    165625 [100.00%]\n",
      "Downloading: MSFT.csv (161614 bytes)\n",
      "    161614 [100.00%]\n",
      "Downloading: WPP2012_SA_DB03_POPULATION_QUINQUENNIAL.zip (5148539 bytes)\n",
      "   5148539 [100.00%]\n",
      "Unpacking: WPP2012_SA_DB03_POPULATION_QUINQUENNIAL.csv\n",
      "Downloading: gapminder_fertility.csv (64346 bytes)\n",
      "     64346 [100.00%]\n",
      "Downloading: gapminder_population.csv (94509 bytes)\n",
      "     94509 [100.00%]\n",
      "Downloading: gapminder_life_expectancy.csv (73243 bytes)\n",
      "     73243 [100.00%]\n",
      "Downloading: gapminder_regions.csv (7781 bytes)\n",
      "      7781 [100.00%]\n",
      "Downloading: world_cities.zip (646858 bytes)\n",
      "    646858 [100.00%]\n",
      "Unpacking: world_cities.csv\n",
      "Downloading: airports.json (6373 bytes)\n",
      "      6373 [100.00%]\n",
      "Downloading: movies.db.zip (5067833 bytes)\n",
      "   5067833 [100.00%]\n",
      "Unpacking: movies.db\n"
     ]
    }
   ],
   "source": [
    "# plotting map of new jersey \n",
    "\n",
    "import bokeh.sampledata # importing bokeh \n",
    "bokeh.sampledata.download() # downloads sample data from bokeh"
   ]
  },
  {
   "cell_type": "code",
   "execution_count": 2,
   "metadata": {
    "collapsed": true
   },
   "outputs": [],
   "source": [
    "from bokeh.io import show # importing show function to display the output\n",
    "from bokeh.models import (\n",
    "    ColumnDataSource, \n",
    "    HoverTool, # hovertool helps the user to hover over the map and give details\n",
    "    LogColorMapper # fills the color \n",
    ")\n",
    "from bokeh.palettes import Viridis6 as palette # imports different palettes\n",
    "from bokeh.plotting import figure # import different figures\n",
    "\n",
    "from bokeh.sampledata.us_counties import data as counties # importing data of counties\n",
    "from bokeh.sampledata.unemployment import data as unemployment # importing data of unemployment within counties\n",
    "\n",
    "palette.reverse() # reverses colors of the palette\n",
    "\n",
    "counties = {\n",
    "    code: county for code, county in counties.items() if county[\"state\"] == \"nj\"\n",
    "} # specify the coude for county state Nj\n",
    "\n",
    "county_xs = [county[\"lons\"] for county in counties.values()] # plotting x axis\n",
    "county_ys = [county[\"lats\"] for county in counties.values()] # plotting y axis\n",
    "\n",
    "county_names = [county['name'] for county in counties.values()] #  assigning names of county data\n",
    "county_rates = [unemployment[county_id] for county_id in counties] # assigning unemployment rate of county\n",
    "color_mapper = LogColorMapper(palette=palette) # using the color mapper funtion to fill the map according to the rates\n",
    "\n",
    "source = ColumnDataSource(data=dict(\n",
    "    x=county_xs, # assigining x axis\n",
    "    y=county_ys, # assigining y axis\n",
    "    name=county_names,  # naming name\n",
    "    rate=county_rates, # naming rate\n",
    "))\n",
    "\n",
    "TOOLS = \"pan,wheel_zoom,reset,hover,save\" # tools funtions\n",
    "\n",
    "p = figure(\n",
    "    title=\"Bokeh Map of New Jersey\", tools=TOOLS,\n",
    "    x_axis_location=None, y_axis_location=None # defining x_axis and y axis location as none\n",
    ")\n",
    "p.grid.grid_line_color = None # grid_line color is defined as none\n",
    "\n",
    "p.patches('x', 'y', source=source,\n",
    "          fill_color={'field': 'rate', 'transform': color_mapper},\n",
    "          fill_alpha=0.7, line_color=\"white\", line_width=0.5)\n",
    "\n",
    "hover = p.select_one(HoverTool) # option to select one hover tool\n",
    "hover.point_policy = \"follow_mouse\" # hover tool will follow mouse movement\n",
    "hover.tooltips = [\n",
    "    (\"Name\", \"@name\"),\n",
    "    (\"Unemployment rate)\", \"@rate%\"),\n",
    "    (\"(Long, Lat)\", \"($x, $y)\"),\n",
    "]\n",
    "\n",
    "show(p) # shows the output\n",
    " "
   ]
  },
  {
   "cell_type": "code",
   "execution_count": null,
   "metadata": {
    "collapsed": true
   },
   "outputs": [],
   "source": []
  }
 ],
 "metadata": {
  "kernelspec": {
   "display_name": "Python 3",
   "language": "python",
   "name": "python3"
  },
  "language_info": {
   "codemirror_mode": {
    "name": "ipython",
    "version": 3
   },
   "file_extension": ".py",
   "mimetype": "text/x-python",
   "name": "python",
   "nbconvert_exporter": "python",
   "pygments_lexer": "ipython3",
   "version": "3.6.1"
  }
 },
 "nbformat": 4,
 "nbformat_minor": 2
}
